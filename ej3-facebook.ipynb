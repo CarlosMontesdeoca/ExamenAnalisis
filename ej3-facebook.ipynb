{
 "cells": [
  {
   "cell_type": "code",
   "execution_count": 2,
   "metadata": {},
   "outputs": [],
   "source": [
    "from facebook_scraper import get_posts\n",
    "from argparse import ArgumentParser\n",
    "import requests\n",
    "from pymongo import MongoClient\n",
    "from pymongo.errors import ConnectionFailure\n",
    "from bson import json_util, ObjectId\n",
    "import json\n",
    "import time"
   ]
  },
  {
   "cell_type": "code",
   "execution_count": 6,
   "metadata": {},
   "outputs": [
    {
     "name": "stdout",
     "output_type": "stream",
     "text": [
      "['admin', 'config', 'examen', 'juego', 'libros', 'local', 'prueba']\n"
     ]
    }
   ],
   "source": [
    "try:\n",
    "    client = MongoClient('localhost')\n",
    "    print (client.list_database_names())\n",
    "    db = client['examen']\n",
    "    col = db['facebook']\n",
    "except requests.ConnectionError as e:\n",
    "    raise e"
   ]
  },
  {
   "cell_type": "code",
   "execution_count": 8,
   "metadata": {},
   "outputs": [
    {
     "name": "stdout",
     "output_type": "stream",
     "text": [
      "1\n"
     ]
    },
    {
     "name": "stderr",
     "output_type": "stream",
     "text": [
      "c:\\program files\\python37\\lib\\site-packages\\ipykernel_launcher.py:26: DeprecationWarning: save is deprecated. Use insert_one or replace_one instead\n"
     ]
    },
    {
     "name": "stdout",
     "output_type": "stream",
     "text": [
      "guardado exitosamente\n",
      "2\n",
      "guardado exitosamente\n",
      "3\n",
      "guardado exitosamente\n",
      "4\n",
      "guardado exitosamente\n",
      "5\n",
      "guardado exitosamente\n",
      "6\n",
      "guardado exitosamente\n",
      "7\n",
      "guardado exitosamente\n",
      "8\n",
      "guardado exitosamente\n",
      "9\n",
      "guardado exitosamente\n",
      "10\n",
      "guardado exitosamente\n",
      "11\n",
      "guardado exitosamente\n",
      "12\n",
      "guardado exitosamente\n",
      "13\n",
      "guardado exitosamente\n",
      "14\n",
      "guardado exitosamente\n",
      "15\n",
      "guardado exitosamente\n",
      "16\n",
      "guardado exitosamente\n",
      "17\n",
      "guardado exitosamente\n",
      "18\n",
      "guardado exitosamente\n",
      "19\n",
      "guardado exitosamente\n",
      "20\n",
      "guardado exitosamente\n",
      "21\n",
      "guardado exitosamente\n",
      "22\n",
      "guardado exitosamente\n",
      "23\n",
      "guardado exitosamente\n",
      "24\n",
      "guardado exitosamente\n",
      "25\n",
      "guardado exitosamente\n",
      "26\n",
      "guardado exitosamente\n",
      "27\n",
      "guardado exitosamente\n",
      "28\n",
      "guardado exitosamente\n",
      "29\n",
      "guardado exitosamente\n",
      "30\n",
      "guardado exitosamente\n",
      "31\n",
      "guardado exitosamente\n",
      "32\n",
      "guardado exitosamente\n",
      "33\n",
      "guardado exitosamente\n",
      "34\n",
      "guardado exitosamente\n",
      "35\n",
      "guardado exitosamente\n",
      "36\n",
      "guardado exitosamente\n",
      "37\n",
      "guardado exitosamente\n",
      "38\n",
      "guardado exitosamente\n",
      "39\n",
      "guardado exitosamente\n",
      "40\n",
      "guardado exitosamente\n",
      "41\n",
      "guardado exitosamente\n",
      "42\n",
      "guardado exitosamente\n",
      "43\n",
      "guardado exitosamente\n",
      "44\n",
      "guardado exitosamente\n",
      "45\n",
      "guardado exitosamente\n",
      "46\n",
      "guardado exitosamente\n",
      "47\n",
      "guardado exitosamente\n",
      "48\n",
      "guardado exitosamente\n",
      "49\n"
     ]
    },
    {
     "ename": "KeyboardInterrupt",
     "evalue": "",
     "output_type": "error",
     "traceback": [
      "\u001b[1;31m---------------------------------------------------------------------------\u001b[0m",
      "\u001b[1;31mKeyboardInterrupt\u001b[0m                         Traceback (most recent call last)",
      "\u001b[1;32m<ipython-input-8-0e32be280151>\u001b[0m in \u001b[0;36m<module>\u001b[1;34m\u001b[0m\n\u001b[0;32m      3\u001b[0m     \u001b[0mprint\u001b[0m\u001b[1;33m(\u001b[0m\u001b[0mi\u001b[0m\u001b[1;33m)\u001b[0m\u001b[1;33m\u001b[0m\u001b[0m\n\u001b[0;32m      4\u001b[0m     \u001b[0mi\u001b[0m\u001b[1;33m=\u001b[0m\u001b[0mi\u001b[0m\u001b[1;33m+\u001b[0m\u001b[1;36m1\u001b[0m\u001b[1;33m\u001b[0m\u001b[0m\n\u001b[1;32m----> 5\u001b[1;33m     \u001b[0mtime\u001b[0m\u001b[1;33m.\u001b[0m\u001b[0msleep\u001b[0m\u001b[1;33m(\u001b[0m\u001b[1;36m5\u001b[0m\u001b[1;33m)\u001b[0m\u001b[1;33m\u001b[0m\u001b[0m\n\u001b[0m\u001b[0;32m      6\u001b[0m \u001b[1;33m\u001b[0m\u001b[0m\n\u001b[0;32m      7\u001b[0m     \u001b[0mid\u001b[0m\u001b[1;33m=\u001b[0m\u001b[0mpost\u001b[0m\u001b[1;33m[\u001b[0m\u001b[1;34m'post_id'\u001b[0m\u001b[1;33m]\u001b[0m\u001b[1;33m\u001b[0m\u001b[0m\n",
      "\u001b[1;31mKeyboardInterrupt\u001b[0m: "
     ]
    }
   ],
   "source": [
    "i=1\n",
    "for post in get_posts('nintendo', pages=1000, extra_info=True):\n",
    "    print(i)\n",
    "    i=i+1\n",
    "    time.sleep(5)\n",
    "    \n",
    "    id=post['post_id']\n",
    "    doc={}\n",
    "     \n",
    "    doc['id']=id\n",
    "    \n",
    "    mydate=post['time']\n",
    "    \n",
    "    try:\n",
    "        doc['texto']=post['text']\n",
    "        doc['date']=mydate.timestamp()\n",
    "        doc['likes']=post['likes']\n",
    "        doc['comments']=post['comments']\n",
    "        doc['shares']=post['shares']\n",
    "        try:\n",
    "            doc['reactions']=post['reactions']\n",
    "        except:\n",
    "            doc['reactions']={}\n",
    "\n",
    "        doc['post_url']=post['post_url']\n",
    "        col.save(doc)\n",
    "\n",
    "    \n",
    "        print(\"guardado exitosamente\")\n",
    "\n",
    "    except Exception as e:    \n",
    "        print(\"no se pudo grabar:\" + str(e))"
   ]
  },
  {
   "cell_type": "code",
   "execution_count": null,
   "metadata": {},
   "outputs": [],
   "source": []
  }
 ],
 "metadata": {
  "kernelspec": {
   "display_name": "Python 3",
   "language": "python",
   "name": "python3"
  },
  "language_info": {
   "codemirror_mode": {
    "name": "ipython",
    "version": 3
   },
   "file_extension": ".py",
   "mimetype": "text/x-python",
   "name": "python",
   "nbconvert_exporter": "python",
   "pygments_lexer": "ipython3",
   "version": "3.7.0"
  }
 },
 "nbformat": 4,
 "nbformat_minor": 4
}
