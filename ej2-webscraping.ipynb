{
 "cells": [
  {
   "cell_type": "code",
   "execution_count": 1,
   "metadata": {},
   "outputs": [],
   "source": [
    "import requests\n",
    "from bs4 import BeautifulSoup\n",
    "from pymongo import MongoClient"
   ]
  },
  {
   "cell_type": "code",
   "execution_count": 5,
   "metadata": {},
   "outputs": [
    {
     "name": "stdout",
     "output_type": "stream",
     "text": [
      "Found a new listing at the following url:  https://www.elsevier.com/es-es/connect/medicina/edu-diferencias-de-composicion-del-microbioma-por-localizacion-anatomica\n"
     ]
    },
    {
     "name": "stderr",
     "output_type": "stream",
     "text": [
      "c:\\program files\\python37\\lib\\site-packages\\ipykernel_launcher.py:23: DeprecationWarning: insert is deprecated. Use insert_one or insert_many instead.\n"
     ]
    },
    {
     "name": "stdout",
     "output_type": "stream",
     "text": [
      "Found a new listing at the following url:  https://www.elsevier.com/es-es/connect/enfermeria/edu-informe-la-profesion-enfermera-a-revision.-un-mapa-realizado-por-elsevier\n",
      "Found a new listing at the following url:  https://www.elsevier.com/es-es/connect/medicina/edu-decisiones-en-urgencias-pediatricas-contenido-centrado-en-el-problema-no-en-el-diagnostico\n",
      "Found a new listing at the following url:  https://www.elsevier.com/es-es/connect/medicina/edu-medicina-de-observacion-mas-alla-de-la-primera-decision-en-urgencias\n",
      "Found a new listing at the following url:  https://www.elsevier.com/es-es/connect/enfermeria/edu-manual-practico-de-enfermeria-comunitaria-segunda-edicion\n",
      "Found a new listing at the following url:  https://www.elsevier.com/es-es/connect/enfermeria/edu-jose-ramon-martinez-riera-de-la-pandemia-se-habla-de-una-manera-muy-medicalizada\n",
      "Found a new listing at the following url:  https://www.elsevier.com/es-es/connect/coronavirus/covid-19-realidad-y-falsa-informacion\n",
      "Found a new listing at the following url:  https://www.elsevier.com/es-es/connect/ehealth/el-futuro-de-la-salud-post-covid-19\n",
      "Found a new listing at the following url:  https://www.elsevier.com/es-es/connect/actualidad-sanitaria/edu-feria-virtual-del-libro-2020\n",
      "Found a new listing at the following url:  https://www.elsevier.com/es-es/connect/enfermeria/elsevier-presenta-clinicalkey-enfermeria\n"
     ]
    }
   ],
   "source": [
    "if __name__ == '__main__':\n",
    "    client = MongoClient('localhost')\n",
    "    db =client.get_database('examen')\n",
    "    col = db['webscraping']\n",
    "\n",
    "\n",
    "    response = requests.get(\"https://www.elsevier.com/es-es/connect\")\n",
    "    soup = BeautifulSoup(response.content, \"lxml\")\n",
    "\n",
    "    post_titles = soup.find_all(\"a\", class_=\"tile-image-anchor\")\n",
    "\n",
    "    extracted = []\n",
    "    for post_title in post_titles:\n",
    "        extracted.append({\n",
    "            'title' : post_title['title'],\n",
    "            'link'  : post_title['href']\n",
    "        })\n",
    "\n",
    "   \n",
    "    for post in extracted:\n",
    "        if col.find_one({'link': post['link']}) is None:\n",
    "            print(\"Found a new listing at the following url: \", post['link'])\n",
    "            col.insert(post)"
   ]
  },
  {
   "cell_type": "code",
   "execution_count": null,
   "metadata": {},
   "outputs": [],
   "source": []
  }
 ],
 "metadata": {
  "kernelspec": {
   "display_name": "Python 3",
   "language": "python",
   "name": "python3"
  },
  "language_info": {
   "codemirror_mode": {
    "name": "ipython",
    "version": 3
   },
   "file_extension": ".py",
   "mimetype": "text/x-python",
   "name": "python",
   "nbconvert_exporter": "python",
   "pygments_lexer": "ipython3",
   "version": "3.7.0"
  }
 },
 "nbformat": 4,
 "nbformat_minor": 4
}
